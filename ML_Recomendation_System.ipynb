{
 "cells": [
  {
   "attachments": {},
   "cell_type": "markdown",
   "metadata": {},
   "source": [
    "### <p align=center> **ML - MACHING LEARNING - RECOMENDATION SYSTEM** <p>"
   ]
  },
  {
   "cell_type": "code",
   "execution_count": 267,
   "metadata": {},
   "outputs": [],
   "source": [
    "# We import the basic libraries for data and visualization\n",
    "import pandas as pd\n",
    "\n",
    "import matplotlib.pyplot as plt\n",
    "\n",
    "%matplotlib inline\n",
    "\n",
    "# Surprise library for training\n",
    "from surprise import Dataset, Reader, SVD\n",
    "\n",
    "from surprise.model_selection import train_test_split"
   ]
  },
  {
   "cell_type": "code",
   "execution_count": 268,
   "metadata": {},
   "outputs": [],
   "source": [
    "# Load the scores dataset\n",
    "df = pd.read_csv(\"Datasets_Score/df_total_score.csv\")\n",
    "\n",
    "# Load the data set of movies to later extract the title of the movies\n",
    "df_titulos  = pd.read_csv(\"df_total_data.csv\")"
   ]
  },
  {
   "cell_type": "code",
   "execution_count": 269,
   "metadata": {},
   "outputs": [
    {
     "data": {
      "text/html": [
       "<div>\n",
       "<style scoped>\n",
       "    .dataframe tbody tr th:only-of-type {\n",
       "        vertical-align: middle;\n",
       "    }\n",
       "\n",
       "    .dataframe tbody tr th {\n",
       "        vertical-align: top;\n",
       "    }\n",
       "\n",
       "    .dataframe thead th {\n",
       "        text-align: right;\n",
       "    }\n",
       "</style>\n",
       "<table border=\"1\" class=\"dataframe\">\n",
       "  <thead>\n",
       "    <tr style=\"text-align: right;\">\n",
       "      <th></th>\n",
       "      <th>movieId</th>\n",
       "      <th>title</th>\n",
       "    </tr>\n",
       "  </thead>\n",
       "  <tbody>\n",
       "    <tr>\n",
       "      <th>0</th>\n",
       "      <td>as1</td>\n",
       "      <td>the grand seduction</td>\n",
       "    </tr>\n",
       "    <tr>\n",
       "      <th>1</th>\n",
       "      <td>as10</td>\n",
       "      <td>david's mother</td>\n",
       "    </tr>\n",
       "    <tr>\n",
       "      <th>2</th>\n",
       "      <td>as100</td>\n",
       "      <td>wilder napalm</td>\n",
       "    </tr>\n",
       "    <tr>\n",
       "      <th>3</th>\n",
       "      <td>as1000</td>\n",
       "      <td>sinbad: make me wanna holla</td>\n",
       "    </tr>\n",
       "    <tr>\n",
       "      <th>4</th>\n",
       "      <td>as1001</td>\n",
       "      <td>simple gifts: the chamber music society at sha...</td>\n",
       "    </tr>\n",
       "    <tr>\n",
       "      <th>...</th>\n",
       "      <td>...</td>\n",
       "      <td>...</td>\n",
       "    </tr>\n",
       "    <tr>\n",
       "      <th>22993</th>\n",
       "      <td>ns995</td>\n",
       "      <td>this lady called life</td>\n",
       "    </tr>\n",
       "    <tr>\n",
       "      <th>22994</th>\n",
       "      <td>ns996</td>\n",
       "      <td>vizontele</td>\n",
       "    </tr>\n",
       "    <tr>\n",
       "      <th>22995</th>\n",
       "      <td>ns997</td>\n",
       "      <td>homunculus</td>\n",
       "    </tr>\n",
       "    <tr>\n",
       "      <th>22996</th>\n",
       "      <td>ns998</td>\n",
       "      <td>life in color with david attenborough</td>\n",
       "    </tr>\n",
       "    <tr>\n",
       "      <th>22997</th>\n",
       "      <td>ns999</td>\n",
       "      <td>searching for sheela</td>\n",
       "    </tr>\n",
       "  </tbody>\n",
       "</table>\n",
       "<p>22998 rows × 2 columns</p>\n",
       "</div>"
      ],
      "text/plain": [
       "      movieId                                              title\n",
       "0         as1                                the grand seduction\n",
       "1        as10                                     david's mother\n",
       "2       as100                                      wilder napalm\n",
       "3      as1000                        sinbad: make me wanna holla\n",
       "4      as1001  simple gifts: the chamber music society at sha...\n",
       "...       ...                                                ...\n",
       "22993   ns995                              this lady called life\n",
       "22994   ns996                                          vizontele\n",
       "22995   ns997                                         homunculus\n",
       "22996   ns998              life in color with david attenborough\n",
       "22997   ns999                               searching for sheela\n",
       "\n",
       "[22998 rows x 2 columns]"
      ]
     },
     "execution_count": 269,
     "metadata": {},
     "output_type": "execute_result"
    }
   ],
   "source": [
    "# From the dataset of movies we are only interested in keeping the id and its title\n",
    "\n",
    "df_titulos = df_titulos[['movieId','title']]\n",
    "\n",
    "df_titulos = df_titulos.reset_index(drop=True)\n",
    "\n",
    "df_titulos"
   ]
  },
  {
   "cell_type": "code",
   "execution_count": 270,
   "metadata": {},
   "outputs": [],
   "source": [
    "# Steps prior to making the prediction\n",
    "\n",
    "N_filas = 100000 # We limit the dataset to N_rows\n",
    "\n",
    "reader = Reader(rating_scale=(1, 5))\n",
    "\n",
    "data = Dataset.load_from_df(df[['userId', 'movieId', 'rating']][:N_filas], reader)\n",
    "\n",
    "# We separate our data\n",
    "\n",
    "trainset, testset = train_test_split(data, test_size=.25)\n"
   ]
  },
  {
   "cell_type": "code",
   "execution_count": 271,
   "metadata": {},
   "outputs": [
    {
     "data": {
      "text/plain": [
       "<surprise.prediction_algorithms.matrix_factorization.SVD at 0x18c74be58a0>"
      ]
     },
     "execution_count": 271,
     "metadata": {},
     "output_type": "execute_result"
    }
   ],
   "source": [
    "# We train the SVD model\n",
    "\n",
    "model = SVD()\n",
    "\n",
    "model.fit(trainset)"
   ]
  },
  {
   "cell_type": "code",
   "execution_count": 272,
   "metadata": {},
   "outputs": [],
   "source": [
    "# We predict\n",
    "\n",
    "predictions = model.test(testset)"
   ]
  },
  {
   "cell_type": "code",
   "execution_count": 273,
   "metadata": {},
   "outputs": [
    {
     "data": {
      "text/plain": [
       "Prediction(uid=34, iid='ns5110', r_ui=3.5, est=3.1486254973495806, details={'was_impossible': False})"
      ]
     },
     "execution_count": 273,
     "metadata": {},
     "output_type": "execute_result"
    }
   ],
   "source": [
    "predictions[1]"
   ]
  },
  {
   "cell_type": "code",
   "execution_count": 274,
   "metadata": {},
   "outputs": [
    {
     "data": {
      "text/plain": [
       "Prediction(uid=9, iid='ns5709', r_ui=None, est=3.836507838040992, details={'was_impossible': False})"
      ]
     },
     "execution_count": 274,
     "metadata": {},
     "output_type": "execute_result"
    }
   ],
   "source": [
    "# Make a prediction with random userId and movieId\n",
    "\n",
    "model.predict(9, 'ns5709')"
   ]
  },
  {
   "attachments": {},
   "cell_type": "markdown",
   "metadata": {},
   "source": [
    "### <p align=center>Complete prediction for a random user <p>"
   ]
  },
  {
   "cell_type": "code",
   "execution_count": 275,
   "metadata": {},
   "outputs": [
    {
     "data": {
      "text/html": [
       "<div>\n",
       "<style scoped>\n",
       "    .dataframe tbody tr th:only-of-type {\n",
       "        vertical-align: middle;\n",
       "    }\n",
       "\n",
       "    .dataframe tbody tr th {\n",
       "        vertical-align: top;\n",
       "    }\n",
       "\n",
       "    .dataframe thead th {\n",
       "        text-align: right;\n",
       "    }\n",
       "</style>\n",
       "<table border=\"1\" class=\"dataframe\">\n",
       "  <thead>\n",
       "    <tr style=\"text-align: right;\">\n",
       "      <th></th>\n",
       "      <th>userId</th>\n",
       "      <th>rating</th>\n",
       "      <th>timestamp</th>\n",
       "      <th>movieId</th>\n",
       "      <th>title</th>\n",
       "    </tr>\n",
       "  </thead>\n",
       "  <tbody>\n",
       "  </tbody>\n",
       "</table>\n",
       "</div>"
      ],
      "text/plain": [
       "Empty DataFrame\n",
       "Columns: [userId, rating, timestamp, movieId, title]\n",
       "Index: []"
      ]
     },
     "execution_count": 275,
     "metadata": {},
     "output_type": "execute_result"
    }
   ],
   "source": [
    "# We will take a random user to make a recommendation\n",
    "\n",
    "usuario = 63400\n",
    "\n",
    "score = 3.7 # We take movies that you have rated 4 or 5 stars\n",
    "\n",
    "df_user = df[(df.userId == usuario) & (df.rating >= score)]\n",
    "\n",
    "df_user = df_user.reset_index(drop=True)\n",
    "\n",
    "df_titulos.rename(columns={'id': 'movieId'}, inplace=True)\n",
    "\n",
    "df_user = pd.merge(df_user, df_titulos[['movieId', 'title']], left_on='movieId', right_on='movieId', how='left')\n",
    "\n",
    "df_user"
   ]
  },
  {
   "cell_type": "code",
   "execution_count": 276,
   "metadata": {},
   "outputs": [
    {
     "name": "stdout",
     "output_type": "stream",
     "text": [
      "(22998, 2)\n"
     ]
    },
    {
     "data": {
      "text/html": [
       "<div>\n",
       "<style scoped>\n",
       "    .dataframe tbody tr th:only-of-type {\n",
       "        vertical-align: middle;\n",
       "    }\n",
       "\n",
       "    .dataframe tbody tr th {\n",
       "        vertical-align: top;\n",
       "    }\n",
       "\n",
       "    .dataframe thead th {\n",
       "        text-align: right;\n",
       "    }\n",
       "</style>\n",
       "<table border=\"1\" class=\"dataframe\">\n",
       "  <thead>\n",
       "    <tr style=\"text-align: right;\">\n",
       "      <th></th>\n",
       "      <th>movieId</th>\n",
       "      <th>title</th>\n",
       "    </tr>\n",
       "  </thead>\n",
       "  <tbody>\n",
       "    <tr>\n",
       "      <th>0</th>\n",
       "      <td>as1</td>\n",
       "      <td>the grand seduction</td>\n",
       "    </tr>\n",
       "    <tr>\n",
       "      <th>1</th>\n",
       "      <td>as10</td>\n",
       "      <td>david's mother</td>\n",
       "    </tr>\n",
       "    <tr>\n",
       "      <th>2</th>\n",
       "      <td>as100</td>\n",
       "      <td>wilder napalm</td>\n",
       "    </tr>\n",
       "    <tr>\n",
       "      <th>3</th>\n",
       "      <td>as1000</td>\n",
       "      <td>sinbad: make me wanna holla</td>\n",
       "    </tr>\n",
       "    <tr>\n",
       "      <th>4</th>\n",
       "      <td>as1001</td>\n",
       "      <td>simple gifts: the chamber music society at sha...</td>\n",
       "    </tr>\n",
       "  </tbody>\n",
       "</table>\n",
       "</div>"
      ],
      "text/plain": [
       "  movieId                                              title\n",
       "0     as1                                the grand seduction\n",
       "1    as10                                     david's mother\n",
       "2   as100                                      wilder napalm\n",
       "3  as1000                        sinbad: make me wanna holla\n",
       "4  as1001  simple gifts: the chamber music society at sha..."
      ]
     },
     "execution_count": 276,
     "metadata": {},
     "output_type": "execute_result"
    }
   ],
   "source": [
    "recomendaciones_usuario = df_titulos.iloc[:23000].copy()\n",
    "\n",
    "print(recomendaciones_usuario.shape)\n",
    "\n",
    "recomendaciones_usuario.head()"
   ]
  },
  {
   "cell_type": "code",
   "execution_count": 277,
   "metadata": {},
   "outputs": [
    {
     "name": "stdout",
     "output_type": "stream",
     "text": [
      "(0, 4)\n"
     ]
    },
    {
     "data": {
      "text/html": [
       "<div>\n",
       "<style scoped>\n",
       "    .dataframe tbody tr th:only-of-type {\n",
       "        vertical-align: middle;\n",
       "    }\n",
       "\n",
       "    .dataframe tbody tr th {\n",
       "        vertical-align: top;\n",
       "    }\n",
       "\n",
       "    .dataframe thead th {\n",
       "        text-align: right;\n",
       "    }\n",
       "</style>\n",
       "<table border=\"1\" class=\"dataframe\">\n",
       "  <thead>\n",
       "    <tr style=\"text-align: right;\">\n",
       "      <th></th>\n",
       "      <th>userId</th>\n",
       "      <th>rating</th>\n",
       "      <th>timestamp</th>\n",
       "      <th>movieId</th>\n",
       "    </tr>\n",
       "  </thead>\n",
       "  <tbody>\n",
       "  </tbody>\n",
       "</table>\n",
       "</div>"
      ],
      "text/plain": [
       "Empty DataFrame\n",
       "Columns: [userId, rating, timestamp, movieId]\n",
       "Index: []"
      ]
     },
     "execution_count": 277,
     "metadata": {},
     "output_type": "execute_result"
    }
   ],
   "source": [
    "# We must extract the movies that you have already seen\n",
    "\n",
    "usuario_vistas = df[df['userId'] == usuario]\n",
    "\n",
    "print(usuario_vistas.shape)\n",
    "\n",
    "usuario_vistas.head()"
   ]
  },
  {
   "cell_type": "code",
   "execution_count": 278,
   "metadata": {},
   "outputs": [
    {
     "data": {
      "text/plain": [
       "(22998, 2)"
      ]
     },
     "execution_count": 278,
     "metadata": {},
     "output_type": "execute_result"
    }
   ],
   "source": [
    "# We eliminate the movies that the user has already seen\n",
    "\n",
    "recomendaciones_usuario = recomendaciones_usuario[~recomendaciones_usuario['movieId'].isin(usuario_vistas['movieId'])]\n",
    "\n",
    "recomendaciones_usuario.shape"
   ]
  },
  {
   "cell_type": "code",
   "execution_count": 279,
   "metadata": {},
   "outputs": [],
   "source": [
    "# We recommend\n",
    "\n",
    "recomendaciones_usuario['Estimate_Score'] = recomendaciones_usuario['movieId'].apply(lambda x: model.predict(usuario, x).est)"
   ]
  },
  {
   "cell_type": "code",
   "execution_count": 280,
   "metadata": {},
   "outputs": [
    {
     "name": "stdout",
     "output_type": "stream",
     "text": [
      "      movieId                                      title  Estimate_Score\n",
      "10262   ds228  fantastic four: rise of the silver surfer        4.055998\n",
      "11996   hs179                               the simpsons        4.053664\n",
      "19055  ns5377                              chasing coral        4.002417\n",
      "1120   as2006  jonas kaufmann - a global star in private        3.983495\n",
      "18913  ns5249                             the lion woman        3.983089\n",
      "19320  ns5615                      daniel sosa: sosafado        3.982325\n",
      "8037   as8232                          the wheel of time        3.980468\n",
      "17069   ns359                                    the net        3.975279\n",
      "16777  ns3326                                 victorious        3.968930\n",
      "212     as119             where is chicky? - chapter two        3.963321\n",
      "18951  ns5283                               carrie pilby        3.944572\n",
      "3449   as4102                      yuvarathnaa (kannada)        3.943879\n",
      "3428   as4084            animal songs by little baby bum        3.928468\n",
      "15901  ns2538                           the delivery boy        3.926987\n",
      "9072   as9164                    last of the pony riders        3.922069\n",
      "1234   as2109                           infinity chamber        3.921828\n"
     ]
    }
   ],
   "source": [
    "recomendaciones_usuario = recomendaciones_usuario.sort_values('Estimate_Score', ascending=False)\n",
    "\n",
    "print(recomendaciones_usuario.head(16))"
   ]
  },
  {
   "attachments": {},
   "cell_type": "markdown",
   "metadata": {},
   "source": [
    "### <p align=center>Prediction entering a user id and a movie id <p>"
   ]
  },
  {
   "cell_type": "code",
   "execution_count": 281,
   "metadata": {},
   "outputs": [],
   "source": [
    "def get_movie_recommendation(userId, movieId):\n",
    "    \n",
    "    # Get the prediction of the rating that the user would give to the movie\n",
    "    prediction = model.predict(userId, str(movieId))\n",
    "   \n",
    "    # If the prediction is greater than or equal to 3.5, the movie is recommended\n",
    "    if prediction.est >= 3.5:\n",
    "        return \"Recommended\", prediction.est\n",
    "        \n",
    "    else:\n",
    "        return \"Not recommended\", prediction.est"
   ]
  },
  {
   "cell_type": "code",
   "execution_count": 282,
   "metadata": {},
   "outputs": [
    {
     "name": "stdout",
     "output_type": "stream",
     "text": [
      "The movie is: ('Not recommended', 3.4594308309654993)\n"
     ]
    }
   ],
   "source": [
    "# Example of how get_movie_recommendation works\n",
    "\n",
    "# user ID\n",
    "user_id = 27\n",
    "\n",
    "# movie ID\n",
    "movie_id = 'as40'\n",
    "\n",
    "# Get the recommendation for the user and the movie\n",
    "recommendation = get_movie_recommendation(user_id, movie_id)\n",
    "\n",
    "# print the recommendation\n",
    "print(\"The movie is:\", recommendation)"
   ]
  },
  {
   "attachments": {},
   "cell_type": "markdown",
   "metadata": {},
   "source": [
    "## **Model evaluation** :"
   ]
  },
  {
   "cell_type": "code",
   "execution_count": 283,
   "metadata": {},
   "outputs": [
    {
     "name": "stdout",
     "output_type": "stream",
     "text": [
      "RMSE: 0.9568\n"
     ]
    },
    {
     "data": {
      "text/plain": [
       "0.9567868179272829"
      ]
     },
     "execution_count": 283,
     "metadata": {},
     "output_type": "execute_result"
    }
   ],
   "source": [
    "# We evaluate the accuracy of the model\n",
    "\n",
    "from surprise import accuracy\n",
    "\n",
    "accuracy.rmse(predictions)"
   ]
  },
  {
   "attachments": {},
   "cell_type": "markdown",
   "metadata": {},
   "source": [
    "### <p align=center>Hyperparameter Optimization <p>"
   ]
  },
  {
   "cell_type": "code",
   "execution_count": 284,
   "metadata": {},
   "outputs": [
    {
     "name": "stdout",
     "output_type": "stream",
     "text": [
      "1\n",
      "Evaluating RMSE of algorithm SVD on 3 split(s).\n",
      "\n",
      "                  Fold 1  Fold 2  Fold 3  Mean    Std     \n",
      "RMSE (testset)    0.9531  0.9441  0.9485  0.9486  0.0037  \n",
      "Fit time          1.14    0.90    0.95    0.99    0.10    \n",
      "Test time         1.81    0.42    0.81    1.01    0.58    \n",
      "2\n",
      "Evaluating RMSE of algorithm SVD on 3 split(s).\n",
      "\n",
      "                  Fold 1  Fold 2  Fold 3  Mean    Std     \n",
      "RMSE (testset)    0.9485  0.9509  0.9473  0.9489  0.0015  \n",
      "Fit time          1.59    1.52    1.64    1.58    0.05    \n",
      "Test time         2.32    1.02    0.85    1.40    0.66    \n",
      "4\n",
      "Evaluating RMSE of algorithm SVD on 3 split(s).\n",
      "\n",
      "                  Fold 1  Fold 2  Fold 3  Mean    Std     \n",
      "RMSE (testset)    0.9434  0.9510  0.9530  0.9492  0.0041  \n",
      "Fit time          1.71    2.37    1.66    1.91    0.33    \n",
      "Test time         1.25    1.70    1.30    1.41    0.20    \n",
      "8\n",
      "Evaluating RMSE of algorithm SVD on 3 split(s).\n",
      "\n",
      "                  Fold 1  Fold 2  Fold 3  Mean    Std     \n",
      "RMSE (testset)    0.9496  0.9525  0.9498  0.9506  0.0013  \n",
      "Fit time          1.78    1.54    1.60    1.64    0.10    \n",
      "Test time         1.16    0.92    0.83    0.97    0.14    \n",
      "16\n",
      "Evaluating RMSE of algorithm SVD on 3 split(s).\n",
      "\n",
      "                  Fold 1  Fold 2  Fold 3  Mean    Std     \n",
      "RMSE (testset)    0.9517  0.9438  0.9561  0.9505  0.0051  \n",
      "Fit time          1.63    1.30    0.67    1.20    0.40    \n",
      "Test time         0.54    0.31    0.20    0.35    0.14    \n",
      "32\n",
      "Evaluating RMSE of algorithm SVD on 3 split(s).\n",
      "\n",
      "                  Fold 1  Fold 2  Fold 3  Mean    Std     \n",
      "RMSE (testset)    0.9506  0.9587  0.9503  0.9532  0.0039  \n",
      "Fit time          0.81    0.90    0.88    0.86    0.04    \n",
      "Test time         0.24    0.25    0.23    0.24    0.01    \n",
      "64\n",
      "Evaluating RMSE of algorithm SVD on 3 split(s).\n",
      "\n",
      "                  Fold 1  Fold 2  Fold 3  Mean    Std     \n",
      "RMSE (testset)    0.9563  0.9618  0.9509  0.9563  0.0044  \n",
      "Fit time          1.06    0.95    0.97    0.99    0.05    \n",
      "Test time         0.20    0.20    0.19    0.20    0.00    \n",
      "128\n",
      "Evaluating RMSE of algorithm SVD on 3 split(s).\n",
      "\n",
      "                  Fold 1  Fold 2  Fold 3  Mean    Std     \n",
      "RMSE (testset)    0.9590  0.9634  0.9582  0.9602  0.0023  \n",
      "Fit time          1.37    1.32    1.38    1.36    0.03    \n",
      "Test time         0.22    0.22    0.21    0.22    0.01    \n"
     ]
    }
   ],
   "source": [
    "from surprise.model_selection import cross_validate\n",
    "\n",
    "import numpy as np\n",
    "\n",
    "rmse_test_means = []\n",
    "\n",
    "factores = [1,2,4,8,16,32,64,128]\n",
    "\n",
    "for factor in factores:\n",
    "\n",
    "    print(factor)\n",
    "\n",
    "    model = SVD(n_factors=factor)\n",
    "\n",
    "    cv = cross_validate(model, data, measures=['RMSE'], cv = 3, verbose=True)\n",
    "    \n",
    "    rmse_test_means.append(np.mean(cv['test_rmse']))"
   ]
  },
  {
   "cell_type": "code",
   "execution_count": 285,
   "metadata": {},
   "outputs": [
    {
     "data": {
      "image/png": "[encoded data removed]",
      "text/plain": [
       "<Figure size 640x480 with 1 Axes>"
      ]
     },
     "metadata": {},
     "output_type": "display_data"
    }
   ],
   "source": [
    "# We plot performance according to number of SVD factors\n",
    "\n",
    "plt.scatter(factores, rmse_test_means)\n",
    "\n",
    "plt.xlabel('Numhber of factors')\n",
    "\n",
    "plt.ylabel('Error RMSE')\n",
    "\n",
    "plt.show()"
   ]
  },
  {
   "attachments": {},
   "cell_type": "markdown",
   "metadata": {},
   "source": [
    "### <p align=center> **USER INTERFACE THROUGH GRADIO** <p>"
   ]
  },
  {
   "cell_type": "code",
   "execution_count": 286,
   "metadata": {},
   "outputs": [],
   "source": [
    "# Import the gradio library to make the interface\n",
    "import gradio as gr"
   ]
  },
  {
   "cell_type": "code",
   "execution_count": 287,
   "metadata": {},
   "outputs": [],
   "source": [
    "# We created this function in order to know the title of the movie that we recommend or not\n",
    "\n",
    "def get_movie_title(movieId):\n",
    "    \n",
    "    return df_titulos[df_titulos.movieId == movieId].title.iloc[0].title()"
   ]
  },
  {
   "cell_type": "code",
   "execution_count": 288,
   "metadata": {},
   "outputs": [
    {
     "data": {
      "text/plain": [
       "'Masters Of The Universe: Revelation'"
      ]
     },
     "execution_count": 288,
     "metadata": {},
     "output_type": "execute_result"
    }
   ],
   "source": [
    "# test the function\n",
    "get_movie_title('ns400')"
   ]
  },
  {
   "cell_type": "code",
   "execution_count": 289,
   "metadata": {},
   "outputs": [],
   "source": [
    "# We will use the function \"get_movie_recommendation\" previously declared and the\n",
    "# newly declared get_movie_title to create a new combined function\n",
    "\n",
    "def combined_functions(userId, movieId):\n",
    "\n",
    "    recommended, score = get_movie_recommendation(userId, movieId)\n",
    "\n",
    "    title = get_movie_title(movieId)\n",
    "    \n",
    "    return (recommended, score, title)\n"
   ]
  },
  {
   "cell_type": "code",
   "execution_count": 290,
   "metadata": {},
   "outputs": [
    {
     "data": {
      "text/plain": [
       "('Recommended', 3.9311025011510052, 'Dopesick')"
      ]
     },
     "execution_count": 290,
     "metadata": {},
     "output_type": "execute_result"
    }
   ],
   "source": [
    "combined_functions(32, 'hs40')"
   ]
  },
  {
   "attachments": {},
   "cell_type": "markdown",
   "metadata": {},
   "source": [
    "## **Model deploy** :"
   ]
  },
  {
   "cell_type": "code",
   "execution_count": 291,
   "metadata": {},
   "outputs": [
    {
     "name": "stderr",
     "output_type": "stream",
     "text": [
      "c:\\Users\\user\\AppData\\Local\\Programs\\Python\\Python310\\lib\\site-packages\\gradio\\inputs.py:59: UserWarning: Usage of gradio.inputs is deprecated, and will not be supported in the future, please import your component from gradio.components\n",
      "  warnings.warn(\n",
      "c:\\Users\\user\\AppData\\Local\\Programs\\Python\\Python310\\lib\\site-packages\\gradio\\deprecation.py:40: UserWarning: `optional` parameter is deprecated, and it has no effect\n",
      "  warnings.warn(value)\n"
     ]
    },
    {
     "name": "stdout",
     "output_type": "stream",
     "text": [
      "Running on local URL:  http://127.0.0.1:7871\n",
      "Running on public URL: https://3887f48b20377313eb.gradio.live\n",
      "\n",
      "This share link expires in 72 hours. For free permanent hosting and GPU upgrades (NEW!), check out Spaces: https://huggingface.co/spaces\n"
     ]
    },
    {
     "data": {
      "text/html": [
       "<div><iframe src=\"https://3887f48b20377313eb.gradio.live\" width=\"100%\" height=\"500\" allow=\"autoplay; camera; microphone; clipboard-read; clipboard-write;\" frameborder=\"0\" allowfullscreen></iframe></div>"
      ],
      "text/plain": [
       "<IPython.core.display.HTML object>"
      ]
     },
     "metadata": {},
     "output_type": "display_data"
    },
    {
     "data": {
      "text/plain": []
     },
     "execution_count": 291,
     "metadata": {},
     "output_type": "execute_result"
    }
   ],
   "source": [
    "title = str(\"Movie recommendation system\")\n",
    "\n",
    "with gr.Blocks(title= title) as demo:\n",
    "\n",
    "    text = gr.components.HTML(\"\"\"\n",
    "    <h1>Welcome to the movie recommendation system!</h1>\n",
    "    \"\"\")\n",
    "\n",
    "    userId = gr.inputs.Number(label=\"enter your id\")\n",
    "\n",
    "    movie = gr.Textbox(label=\"Enter a movie id\")\n",
    "\n",
    "    get_recommendation_btn = gr.Button(\"Find out if the movie is recommended for you\")\n",
    "\n",
    "    title = gr.Textbox(label = \"Name of the movie:\")\n",
    "\n",
    "    output = gr.Textbox(label=\"Is the movie recommended?\")\n",
    "\n",
    "    score = gr.Textbox(label=\"Predicted Score:\")\n",
    "    \n",
    "    get_recommendation_btn.click(fn=combined_functions, inputs=[userId,movie], outputs=[output, score, title])\n",
    "\n",
    "demo.launch(share=True)\n"
   ]
  }
 ],
 "metadata": {
  "kernelspec": {
   "display_name": "Python 3",
   "language": "python",
   "name": "python3"
  },
  "language_info": {
   "codemirror_mode": {
    "name": "ipython",
    "version": 3
   },
   "file_extension": ".py",
   "mimetype": "text/x-python",
   "name": "python",
   "nbconvert_exporter": "python",
   "pygments_lexer": "ipython3",
   "version": "3.10.9"
  },
  "orig_nbformat": 4,
  "vscode": {
   "interpreter": {
    "hash": "fb4569285eef3a3450cb62085a5b1e0da4bce0af555edc33dcf29baf3acc1368"
   }
  }
 },
 "nbformat": 4,
 "nbformat_minor": 2
}
